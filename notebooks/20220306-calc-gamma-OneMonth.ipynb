{
 "cells": [
  {
   "cell_type": "markdown",
   "id": "d92071e6-36d5-4adc-b7ad-3336423134b4",
   "metadata": {
    "tags": []
   },
   "source": [
    "## Temporally discounted money for univeral digital infrastructure"
   ]
  },
  {
   "cell_type": "code",
   "execution_count": 8,
   "id": "ae27bc83-5200-4672-92cb-6a6b7b3f0825",
   "metadata": {},
   "outputs": [],
   "source": [
    "import numpy as np"
   ]
  },
  {
   "cell_type": "markdown",
   "id": "34bf718c-3195-4409-9dba-e41811b64ab7",
   "metadata": {},
   "source": [
    "Define $\\tau$ as the half-time of the exponential discount and set it to roughly one month expressed as"
   ]
  },
  {
   "cell_type": "code",
   "execution_count": 13,
   "id": "2d5b37b9-bd32-46b6-8bfd-c445e446adb3",
   "metadata": {},
   "outputs": [
    {
     "data": {
      "text/plain": [
       "2628000.0"
      ]
     },
     "execution_count": 13,
     "metadata": {},
     "output_type": "execute_result"
    }
   ],
   "source": [
    "tauHrs = 365/12 * 24;\n",
    "tauSec = tauHrs * 3600; tauSec"
   ]
  },
  {
   "cell_type": "code",
   "execution_count": 12,
   "id": "1e257b6d-23c9-401c-acdc-f8a8660a7b00",
   "metadata": {},
   "outputs": [
    {
     "data": {
      "text/plain": [
       "0.9999996194825685"
      ]
     },
     "execution_count": 12,
     "metadata": {},
     "output_type": "execute_result"
    }
   ],
   "source": [
    "gammaHrs = np.exp(-1/tauHrs);\n",
    "gammaSec = np.exp(-1/tauSec);\n",
    "gammaSec"
   ]
  },
  {
   "cell_type": "code",
   "execution_count": 16,
   "id": "0440e3ea-55c5-4811-908e-9bdfffe71ecc",
   "metadata": {},
   "outputs": [
    {
     "data": {
      "text/plain": [
       "730.5001141552126"
      ]
     },
     "execution_count": 16,
     "metadata": {},
     "output_type": "execute_result"
    }
   ],
   "source": [
    "(np.exp(1/tauHrs))/(np.exp(1/tauHrs)-1)"
   ]
  },
  {
   "cell_type": "code",
   "execution_count": 5,
   "id": "e80957fc-4fd4-4dd5-b244-b7aaa5fb2b21",
   "metadata": {},
   "outputs": [
    {
     "data": {
      "text/plain": [
       "2920"
      ]
     },
     "execution_count": 5,
     "metadata": {},
     "output_type": "execute_result"
    }
   ],
   "source": [
    "4*730"
   ]
  },
  {
   "cell_type": "markdown",
   "id": "b5fec7c6-8b5b-4d1d-b770-c0255271ad38",
   "metadata": {
    "tags": []
   },
   "source": [
    "### Toy plotting"
   ]
  },
  {
   "cell_type": "code",
   "execution_count": 54,
   "id": "50f07ea5-1b22-4314-9440-e6d38a0f7af3",
   "metadata": {},
   "outputs": [
    {
     "data": {
      "text/plain": [
       "9223372036854775809"
      ]
     },
     "execution_count": 54,
     "metadata": {},
     "output_type": "execute_result"
    }
   ],
   "source": [
    "2**64 - 9223372036854775807"
   ]
  },
  {
   "cell_type": "code",
   "execution_count": 53,
   "id": "1c64d0b8-99c9-4031-8652-3a8a4c0427af",
   "metadata": {},
   "outputs": [
    {
     "data": {
      "text/plain": [
       "5.421010862427522e-20"
      ]
     },
     "execution_count": 53,
     "metadata": {},
     "output_type": "execute_result"
    }
   ],
   "source": [
    "1 / 2**64"
   ]
  },
  {
   "cell_type": "code",
   "execution_count": 51,
   "id": "ce89ae2f-c5e0-4f55-8f30-aa105672a60e",
   "metadata": {},
   "outputs": [
    {
     "data": {
      "text/plain": [
       "1.8446737054401878e+19"
      ]
     },
     "execution_count": 51,
     "metadata": {},
     "output_type": "execute_result"
    }
   ],
   "source": [
    "gammaSec * 2**64"
   ]
  },
  {
   "cell_type": "code",
   "execution_count": 52,
   "id": "8daf1485-4a4d-4114-b72a-19361feb263c",
   "metadata": {},
   "outputs": [
    {
     "data": {
      "text/plain": [
       "1.8421491861264601e+19"
      ]
     },
     "execution_count": 52,
     "metadata": {},
     "output_type": "execute_result"
    }
   ],
   "source": [
    "gammaHrs * 2 **64"
   ]
  },
  {
   "cell_type": "code",
   "execution_count": null,
   "id": "c0e6e071-b0b8-4959-a07b-b8e9b23053a9",
   "metadata": {},
   "outputs": [],
   "source": []
  }
 ],
 "metadata": {
  "kernelspec": {
   "display_name": "Python 3 (ipykernel)",
   "language": "python",
   "name": "python3"
  },
  "language_info": {
   "codemirror_mode": {
    "name": "ipython",
    "version": 3
   },
   "file_extension": ".py",
   "mimetype": "text/x-python",
   "name": "python",
   "nbconvert_exporter": "python",
   "pygments_lexer": "ipython3",
   "version": "3.10.2"
  }
 },
 "nbformat": 4,
 "nbformat_minor": 5
}
