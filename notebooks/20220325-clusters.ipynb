{
 "cells": [
  {
   "cell_type": "markdown",
   "id": "33781f7e-ebec-4f2e-8634-5a74680fba49",
   "metadata": {},
   "source": [
    "## Clusters over a graph"
   ]
  },
  {
   "cell_type": "markdown",
   "id": "e8af0c81-0111-4cdd-9225-f7db8ac20771",
   "metadata": {},
   "source": [
    "### Time flow over a trust graph"
   ]
  },
  {
   "cell_type": "markdown",
   "id": "ed45888c-099c-40e0-8b21-601cef985329",
   "metadata": {},
   "source": [
    "Anyone can create a node, which has its own issuance of time. Every hour every node can create a new token, and each balance of tokens is exponentially discounted as clock time progresses. Nodes can indicate they trust other nodes, by which they indicate that they will accept tokens from a trusted node to be swapped 1-for-1 with their own tokens. This creates fungeability for the tokens of nodes between which a path of mutual-trust connections exists. "
   ]
  },
  {
   "cell_type": "markdown",
   "id": "d9c0620c-7ddc-4775-be29-d002d2199927",
   "metadata": {},
   "source": [
    "For a specific service, a node can start a cluster to publish their service. Other nodes who also run this service can join an existing cluster if they have a maximal distance `n` from the existing cluster. With a bonding curve for staking into an existing cluster.\n",
    "\n",
    "A node can be present in two (or more) clusters (of the same service). these two clusters with overlapping nodes now have a distance metric in the service-space"
   ]
  },
  {
   "cell_type": "code",
   "execution_count": null,
   "id": "7b96e2aa-a21c-4004-9238-71f4fca67e80",
   "metadata": {},
   "outputs": [],
   "source": []
  }
 ],
 "metadata": {
  "kernelspec": {
   "display_name": "Python 3 (ipykernel)",
   "language": "python",
   "name": "python3"
  },
  "language_info": {
   "codemirror_mode": {
    "name": "ipython",
    "version": 3
   },
   "file_extension": ".py",
   "mimetype": "text/x-python",
   "name": "python",
   "nbconvert_exporter": "python",
   "pygments_lexer": "ipython3",
   "version": "3.10.2"
  }
 },
 "nbformat": 4,
 "nbformat_minor": 5
}
